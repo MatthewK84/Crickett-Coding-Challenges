{
  "nbformat": 4,
  "nbformat_minor": 0,
  "metadata": {
    "colab": {
      "provenance": [],
      "authorship_tag": "ABX9TyOOOVCUq3E9KgHd0KMb1M/Q",
      "include_colab_link": true
    },
    "kernelspec": {
      "name": "python3",
      "display_name": "Python 3"
    },
    "language_info": {
      "name": "python"
    }
  },
  "cells": [
    {
      "cell_type": "markdown",
      "metadata": {
        "id": "view-in-github",
        "colab_type": "text"
      },
      "source": [
        "<a href=\"https://colab.research.google.com/github/MatthewK84/Crickett-Coding-Challenges/blob/main/Crontab_Tool.ipynb\" target=\"_parent\"><img src=\"https://colab.research.google.com/assets/colab-badge.svg\" alt=\"Open In Colab\"/></a>"
      ]
    },
    {
      "cell_type": "code",
      "execution_count": 10,
      "metadata": {
        "colab": {
          "base_uri": "https://localhost:8080/"
        },
        "id": "xrqVA5-tTRKV",
        "outputId": "b6443070-41e5-49f5-ac20-96f0aa04862e"
      },
      "outputs": [
        {
          "output_type": "stream",
          "name": "stdout",
          "text": [
            "Enter a cron expression (e.g., '0 9 * * SAT'): * * * * *\n",
            "Cron expression translated: Minute: every minute, Hour: every hour, Day of the Month: every day of the month, Month: every month, Day of the Week: every day of the week\n"
          ]
        }
      ],
      "source": [
        "import re\n",
        "\n",
        "def is_valid_field(field, min_value, max_value):\n",
        "    # Check for wildcards and steps like */5\n",
        "    if field == '*' or re.match(r'^\\*/\\d+$', field):\n",
        "        return True\n",
        "\n",
        "    # Check for ranges and lists\n",
        "    for part in field.split(','):\n",
        "        if '-' in part:\n",
        "            start, end = map(int, part.split('-'))\n",
        "            if start > end or start < min_value or end > max_value:\n",
        "                return False\n",
        "        elif not part.isdigit() or not (min_value <= int(part) <= max_value):\n",
        "            return False\n",
        "\n",
        "    return True\n",
        "\n",
        "def validate_cron_expression(expr):\n",
        "    fields = expr.split()\n",
        "    if len(fields) != 5:\n",
        "        return False\n",
        "\n",
        "    # Define min and max values for each field\n",
        "    limits = [(0, 59), (0, 23), (1, 31), (1, 12), (0, 6)]\n",
        "\n",
        "    return all(is_valid_field(field, *limit) for field, limit in zip(fields, limits))\n",
        "\n",
        "def translate_field(field, field_name, min_value, max_value, names=None):\n",
        "    if field == '*':\n",
        "        return f\"every {field_name}\"\n",
        "\n",
        "    if field.startswith('*/'):\n",
        "        step = field.split('/')[1]\n",
        "        return f\"every {step} {field_name}s\"\n",
        "\n",
        "    parts = []\n",
        "    for part in field.split(','):\n",
        "        if '-' in part:\n",
        "            start, end = part.split('-')\n",
        "            parts.append(f\"from {start} to {end} {field_name}s\")\n",
        "        else:\n",
        "            value = int(part)\n",
        "            name = names[value] if names and value in names else part\n",
        "            parts.append(name)\n",
        "\n",
        "    return ', '.join(parts)\n",
        "\n",
        "def translate_cron_expression(expr):\n",
        "    fields = expr.split()\n",
        "    names_of_months = {1: 'January', 2: 'February', 3: 'March', 4: 'April', 5: 'May', 6: 'June',\n",
        "                       7: 'July', 8: 'August', 9: 'September', 10: 'October', 11: 'November', 12: 'December'}\n",
        "    names_of_days = {0: 'Sunday', 1: 'Monday', 2: 'Tuesday', 3: 'Wednesday', 4: 'Thursday', 5: 'Friday', 6: 'Saturday'}\n",
        "\n",
        "    minute = translate_field(fields[0], 'minute', 0, 59)\n",
        "    hour = translate_field(fields[1], 'hour', 0, 23)\n",
        "    day_of_month = translate_field(fields[2], 'day of the month', 1, 31)\n",
        "    month = translate_field(fields[3], 'month', 1, 12, names_of_months)\n",
        "    day_of_week = translate_field(fields[4], 'day of the week', 0, 6, names_of_days)\n",
        "\n",
        "    return f\"Minute: {minute}, Hour: {hour}, Day of the Month: {day_of_month}, Month: {month}, Day of the Week: {day_of_week}\"\n",
        "\n",
        "# User Interface\n",
        "cron_expression = input(\"Enter a cron expression (e.g., '0 9 * * SAT'): \")\n",
        "\n",
        "# Validation\n",
        "if validate_cron_expression(cron_expression):\n",
        "    # Translation\n",
        "    translation = translate_cron_expression(cron_expression)\n",
        "    print(\"Cron expression translated:\", translation)\n",
        "else:\n",
        "    print(\"Invalid cron expression.\")"
      ]
    }
  ]
}