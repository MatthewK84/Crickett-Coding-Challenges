{
  "nbformat": 4,
  "nbformat_minor": 0,
  "metadata": {
    "colab": {
      "provenance": [],
      "authorship_tag": "ABX9TyN9yw5kyX0OLrKAaWXDyRBy",
      "include_colab_link": true
    },
    "kernelspec": {
      "name": "python3",
      "display_name": "Python 3"
    },
    "language_info": {
      "name": "python"
    }
  },
  "cells": [
    {
      "cell_type": "markdown",
      "metadata": {
        "id": "view-in-github",
        "colab_type": "text"
      },
      "source": [
        "<a href=\"https://colab.research.google.com/github/MatthewK84/Crickett-Coding-Challenges/blob/main/Start_QR_Code_Challenge.ipynb\" target=\"_parent\"><img src=\"https://colab.research.google.com/assets/colab-badge.svg\" alt=\"Open In Colab\"/></a>"
      ]
    },
    {
      "cell_type": "code",
      "execution_count": null,
      "metadata": {
        "id": "SvZFZSN3ZKsJ"
      },
      "outputs": [],
      "source": [
        "import re\n",
        "\n",
        "def determine_encoding_mode(data):\n",
        "    if all(c.isdigit() for c in data):\n",
        "        return 'Numeric'\n",
        "    elif re.match(\"^[0-9A-Z \\$%\\*\\+\\.\\/:\\s]+$\", data):\n",
        "        return 'Alphanumeric'\n",
        "    # Additional checks for byte and Kanji modes can be added here\n",
        "    return 'Byte'\n",
        "\n",
        "def get_mode_indicator(mode):\n",
        "    return {\n",
        "        'Numeric': '0001',\n",
        "        'Alphanumeric': '0010',\n",
        "        'Byte': '0100',\n",
        "        # Add 'Kanji': '1000' when Kanji mode is implemented\n",
        "    }.get(mode, '0100')  # Default to Byte mode\n",
        "\n",
        "def get_character_count_indicator(data, mode):\n",
        "    # For version 1-9, the length of the indicator varies by mode\n",
        "    length = len(data)\n",
        "    if mode == 'Numeric':\n",
        "        return format(length, '010b')\n",
        "    elif mode == 'Alphanumeric':\n",
        "        return format(length, '09b')\n",
        "    # Add cases for Byte and Kanji modes\n",
        "    return format(length, '08b')\n",
        "\n",
        "# Example usage\n",
        "data = \"HELLO CC WORLD\"\n",
        "mode = determine_encoding_mode(data)\n",
        "mode_indicator = get_mode_indicator(mode)\n",
        "char_count_indicator = get_character_count_indicator(data, mode)\n",
        "\n",
        "# Further steps for data encoding, padding, and error correction would follow\n"
      ]
    }
  ]
}